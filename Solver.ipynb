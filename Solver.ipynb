{
 "cells": [
  {
   "cell_type": "code",
   "execution_count": 40,
   "id": "6517cdab-a3bf-4159-b37b-986a2144ef2d",
   "metadata": {},
   "outputs": [],
   "source": [
    "import numpy as np\n",
    "import sympy\n",
    "\n",
    "# s = np.int64(input(\"Please enter the degree of predictor-corrector method you want to be calculated: \"))\n",
    "s = 1\n",
    "m = 1\n",
    "t = sympy.symbols('t')\n",
    "P = sympy.Function('P')(t, s, m)\n",
    "def P(t,s,m):\n",
    "    res = 1\n",
    "    for l in range(s):\n",
    "        if l!= m:\n",
    "            res*= (t+s-1-l)/(m-l)\n",
    "    return res\n",
    "Q = sympy.Function('Q')(t, s, m)\n",
    "def Q(t,s,m):\n",
    "    res = 1\n",
    "    # This loop could be from 1 to s or 0 to s-1, I chose the latter\n",
    "    for l in range(s):\n",
    "        if l!= m:\n",
    "            res*= (t+s-2-l)/(m-l)\n",
    "    return res\n",
    "\n",
    "# This Function Collects the Adams-Bashforth and Adams-Moulton coefficients\n",
    "def abm_coef_collector(s):\n",
    "    # 'p's are the polynomial interpolations of the predictor\n",
    "    p = sympy.symarray(('p'), shape=s)\n",
    "    b = sympy.symarray(('b'),shape=s)\n",
    "    # 'q's are the polynomial interpolations of the corrector\n",
    "    q = sympy.symarray(('q'), shape=s)\n",
    "    c = sympy.symarray(('c'),shape=s)\n",
    "    bnum = np.zeros(s).reshape((1,s))\n",
    "    bdenom = np.zeros(s).reshape((1,s))\n",
    "    cnum = np.zeros(s).reshape((1,s))\n",
    "    cdenom = np.zeros(s).reshape((1,s))\n",
    "    ab = np.zeros(s).reshape((1,s))\n",
    "    abm = np.zeros(s).reshape((1,s))\n",
    "    for m in range(s):\n",
    "        p[m]=P(t,s,m)\n",
    "        b[m]=sympy.Rational(sympy.integrate(p[m],[t,0,1]).simplify())\n",
    "        bnum[0,m] = b[m].numerator\n",
    "        bdenom[0,m] = b[m].denominator\n",
    "        q[m]=Q(t,s,m)\n",
    "        c[m]=sympy.Rational(sympy.integrate(q[m],[t,0,1]).simplify())\n",
    "        cnum[0,m] = c[m].numerator\n",
    "        cdenom[0,m] = c[m].denominator\n",
    "        ab[0,m] = 1.*np.int64(bnum[0,m])/np.int64(bdenom[0,m])\n",
    "        abm[0,m] = 1.*np.int64(cnum[0,m])/np.int64(cdenom[0,m])\n",
    "    return ab,abm,bnum,bdenom,cnum,cdenom\n",
    "\n",
    "global one_sixth\n",
    "one_sixth = 1./6\n",
    "# Kuramoto Dynamics RHS of the equation\n",
    "def func(Theta,w0,N,k):\n",
    "    theta = Theta.reshape((1,N))\n",
    "    res = np.ones_like(theta)*w0\n",
    "    for i in range(N):\n",
    "        res[0,i] += k*np.sum(np.sin(theta[0,:]-theta[0,i]),axis = 0)\n",
    "    return res\n",
    "\n",
    "def rk4_step(Theta,w0,N,k,dt):\n",
    "    rk1 = func(Theta,w0,N,k)\n",
    "    rk2 = func(Theta + 0.5*dt*rk1,w0,N,k)\n",
    "    rk3 = func(Theta + 0.5*dt*rk2,w0,N,k)\n",
    "    rk4 = func(Theta + dt*rk3,w0,N,k)\n",
    "    res = Theta + one_sixth*(rk1+2*(rk2+rk3)+rk4)\n",
    "    return res, rk1\n",
    "\n",
    "def ab_step(dt,Theta_dot_History, ab):\n",
    "    res = np.dot(ab,Theta_dot_History)*dt\n",
    "    return res\n",
    "\n",
    "def abm_step(dt,Theta_dot_History, ab, abm,s):\n",
    "    dummy = Theta_dot_History\n",
    "    for i in range(s-1):\n",
    "        dummy[i,:] = dummy[i+1,:]\n",
    "    dummy[s-1,:] = np.dot(ab,Theta_dot_History)*dt\n",
    "    res = np.dot(abm,dummy)*dt\n",
    "    return res\n",
    "\n",
    "def initiate_kuramoto(N,omega0,K,dt,s):    \n",
    "    # Initiating the phases as a splay with random fluctuation\n",
    "    Theta0 = np.arange(0., 2*np.pi, 2*np.pi/N).reshape((1,N))+np.random.uniform(0.,1.,N).reshape((1,N))*1.0e-010\n",
    "    Theta = np.zeros_like(Theta0)\n",
    "    Theta_dot = np.zeros_like(Theta0)\n",
    "    Theta_History = np.zeros((s,N))\n",
    "    Theta_dot_History = np.zeros((s,N))\n",
    "    #Creating the history\n",
    "    Theta_History[0,:] = Theta0[0,:]\n",
    "    k = 1.*N/K\n",
    "    for i in range(s-1):\n",
    "        Theta_History[i+1,:], Theta_dot_History[i,:] = rk4_step(Theta_History[i,:],omega0,N,k,dt)\n",
    "    Theta = Theta_History[s-1,:]\n",
    "    Theta_dot_History[s-1,:] = func(Theta,omega0,N,k)\n",
    "    Theta_dot = Theta_dot_History[s-1,:]\n",
    "    return Theta0,Theta,Theta_dot,Theta_History,Theta_dot_History,k\n",
    "\n",
    "def Kuramoto(Final_Time,N,omega0,K,step_num,method,s):\n",
    "    dt = 1./step_num\n",
    "    Number_of_Steps = np.int64(Final_Time*step_num)\n",
    "    Time = np.linspace(-(s-1)*dt,Final_Time,Number_of_Steps+s)\n",
    "    Re_R = np.zeros(Number_of_Steps+s)\n",
    "    Im_R = np.zeros(Number_of_Steps+s)\n",
    "    rho = np.zeros(Number_of_Steps+s)\n",
    "    global k\n",
    "    Theta0,Theta,Theta_dot,Theta_History,Theta_dot_History,k = initiate_kuramoto(N,omega0,K,dt,s)\n",
    "    for i in range(s):\n",
    "        Re_R[i] = np.sum(np.cos(Theta_History[i,:]),axis=0)/N\n",
    "        Im_R[i] = np.sum(np.sin(Theta_History[i,:]),axis=0)/N\n",
    "    if method==\"rk4\":\n",
    "        for i in range(Number_of_Steps):\n",
    "            Theta, Theta_dot = rk4_step(Theta,omega0,N,k,dt)\n",
    "            for j in range(s-1):\n",
    "                Theta_History[j,:] = Theta_History[j+1,:]\n",
    "                Theta_dot_History[j,:] = Theta_dot_History[j+1,:]\n",
    "            Theta_History[s-1,:] = Theta\n",
    "            Theta_dot_History[s-1,:] = Theta       \n",
    "            Re_R[i+s] = np.sum(np.cos(Theta_History[s-1,:]),axis=0)/N\n",
    "            Im_R[i+s] = np.sum(np.sin(Theta_History[s-1,:]),axis=0)/N            \n",
    "    elif method==\"ab\":\n",
    "        for i in range(Number_of_Steps):\n",
    "            Theta = ab_step(dt,Theta_dot_History)\n",
    "            Theta_dot = func(Theta,omega0,N,k)\n",
    "            for j in range(s-1):\n",
    "                Theta_History[j,:] = Theta_History[j+1,:]\n",
    "                Theta_dot_History[j,:] = Theta_dot_History[j+1,:]\n",
    "            Theta_History[s-1,:] = Theta\n",
    "            Theta_dot_History[s-1,:] = Theta       \n",
    "            Re_R[i+s] = np.sum(np.cos(Theta_History[s-1,:]),axis=0)/N\n",
    "            Im_R[i+s] = np.sum(np.sin(Theta_History[s-1,:]),axis=0)/N                    \n",
    "    elif method==\"abm\":\n",
    "        for i in range(Number_of_Steps):\n",
    "            Theta = abm_step(dt,Theta_dot_History)\n",
    "            Theta_dot = func(Theta,omega0,N,k)\n",
    "            for j in range(s-1):\n",
    "                Theta_History[j,:] = Theta_History[j+1,:]\n",
    "                Theta_dot_History[j,:] = Theta_dot_History[j+1,:]\n",
    "            Theta_History[s-1,:] = Theta\n",
    "            Theta_dot_History[s-1,:] = Theta          \n",
    "            Re_R[i+s] = np.sum(np.cos(Theta_History[s-1,:]),axis=0)/N\n",
    "            Im_R[i+s] = np.sum(np.sin(Theta_History[s-1,:]),axis=0)/N            \n",
    "    else:\n",
    "        print(\"Invalid Method!!!\")\n",
    "    rho = np.sqrt(np.multiply(Re_R,Re_R)+np.multiply(Im_R,Im_R))\n",
    "    # phi = np.tan(np.divide(Im_R,Re_R))\n",
    "    return rho,Re_R,Im_R,Time\n"
   ]
  },
  {
   "cell_type": "code",
   "execution_count": 41,
   "id": "f499c305-0627-4426-99b8-2ee2b7ab9a16",
   "metadata": {},
   "outputs": [],
   "source": [
    "ab,abm,bnum,bdenom,cnum,cdenom = abm_coef_collector(6)"
   ]
  },
  {
   "cell_type": "code",
   "execution_count": 42,
   "id": "c1b7b4f8-05f2-4eaa-9804-f03fe3a3c5cc",
   "metadata": {},
   "outputs": [
    {
     "name": "stdout",
     "output_type": "stream",
     "text": [
      "(1, 12)\n"
     ]
    }
   ],
   "source": [
    "rho,Re_R,Im_R,Time = Kuramoto(100.,12,np.pi/2,1.,100,\"rk4\",6)"
   ]
  },
  {
   "cell_type": "code",
   "execution_count": 43,
   "id": "043a3450-7639-45d4-9d0b-08c3cf5a9b32",
   "metadata": {},
   "outputs": [
    {
     "data": {
      "text/plain": [
       "[<matplotlib.lines.Line2D at 0x7eec911adea0>]"
      ]
     },
     "execution_count": 43,
     "metadata": {},
     "output_type": "execute_result"
    },
    {
     "data": {
      "image/png": "[encoded data removed]",
      "text/plain": [
       "<Figure size 640x480 with 1 Axes>"
      ]
     },
     "metadata": {},
     "output_type": "display_data"
    }
   ],
   "source": [
    "import matplotlib.pyplot as plt\n",
    "plt.plot(Time,rho)"
   ]
  },
  {
   "cell_type": "code",
   "execution_count": 22,
   "id": "61361270-57ed-4254-8e0f-0d6813e5a3e0",
   "metadata": {},
   "outputs": [
    {
     "data": {
      "text/plain": [
       "0.0"
      ]
     },
     "execution_count": 22,
     "metadata": {},
     "output_type": "execute_result"
    }
   ],
   "source": [
    "rho[-1]"
   ]
  },
  {
   "cell_type": "code",
   "execution_count": null,
   "id": "e9432a0b-f8f4-46ad-9d8d-1818db73ea9f",
   "metadata": {},
   "outputs": [],
   "source": []
  }
 ],
 "metadata": {
  "kernelspec": {
   "display_name": "Python 3 (ipykernel)",
   "language": "python",
   "name": "python3"
  },
  "language_info": {
   "codemirror_mode": {
    "name": "ipython",
    "version": 3
   },
   "file_extension": ".py",
   "mimetype": "text/x-python",
   "name": "python",
   "nbconvert_exporter": "python",
   "pygments_lexer": "ipython3",
   "version": "3.10.12"
  }
 },
 "nbformat": 4,
 "nbformat_minor": 5
}
